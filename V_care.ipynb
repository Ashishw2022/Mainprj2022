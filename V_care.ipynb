{
  "nbformat": 4,
  "nbformat_minor": 0,
  "metadata": {
    "colab": {
      "name": "V_care.ipynb",
      "provenance": [],
      "collapsed_sections": [
        "KW44HWH9GMUQ",
        "HH0CrDmqusbt"
      ]
    },
    "kernelspec": {
      "name": "python3",
      "display_name": "Python 3"
    },
    "language_info": {
      "name": "python"
    }
  },
  "cells": [
    {
      "cell_type": "code",
      "execution_count": 129,
      "metadata": {
        "id": "ywpA_5ZU3cgE"
      },
      "outputs": [],
      "source": [
        "import pandas as pd\n",
        "import numpy as np\n",
        "import matplotlib.pyplot as plt\n",
        "%matplotlib inline"
      ]
    },
    {
      "cell_type": "code",
      "metadata": {
        "id": "VZgiWe7F4znj"
      },
      "source": [
        "Train_set = pd.read_csv('/content/Training.csv')\n"
      ],
      "execution_count": 130,
      "outputs": []
    },
    {
      "cell_type": "code",
      "metadata": {
        "id": "GSabLe0si1Uy",
        "colab": {
          "base_uri": "https://localhost:8080/"
        },
        "outputId": "88357e00-7ee5-4b91-c8bd-514cffe260d9"
      },
      "source": [
        "Train_set.shape"
      ],
      "execution_count": 131,
      "outputs": [
        {
          "output_type": "execute_result",
          "data": {
            "text/plain": [
              "(4920, 133)"
            ]
          },
          "metadata": {},
          "execution_count": 131
        }
      ]
    },
    {
      "cell_type": "code",
      "metadata": {
        "colab": {
          "base_uri": "https://localhost:8080/"
        },
        "id": "KckoJ6sBmBLs",
        "outputId": "f2c3b3c9-048b-4756-d3e0-7ae4571c751a"
      },
      "source": [
        "Train_set.info()"
      ],
      "execution_count": 132,
      "outputs": [
        {
          "output_type": "stream",
          "name": "stdout",
          "text": [
            "<class 'pandas.core.frame.DataFrame'>\n",
            "RangeIndex: 4920 entries, 0 to 4919\n",
            "Columns: 133 entries, itching to prognosis\n",
            "dtypes: int64(132), object(1)\n",
            "memory usage: 5.0+ MB\n"
          ]
        }
      ]
    },
    {
      "cell_type": "code",
      "metadata": {
        "id": "CFqIB0-Mi44A",
        "colab": {
          "base_uri": "https://localhost:8080/",
          "height": 386
        },
        "outputId": "abc92bc8-a498-4533-c91f-cbea92060a6d"
      },
      "source": [
        "Train_set.head()"
      ],
      "execution_count": 133,
      "outputs": [
        {
          "output_type": "execute_result",
          "data": {
            "text/plain": [
              "   itching  skin_rash  nodal_skin_eruptions  continuous_sneezing  shivering  \\\n",
              "0        1          1                     1                    0          0   \n",
              "1        0          1                     1                    0          0   \n",
              "2        1          0                     1                    0          0   \n",
              "3        1          1                     0                    0          0   \n",
              "4        1          1                     1                    0          0   \n",
              "\n",
              "   chills  joint_pain  stomach_pain  acidity  ulcers_on_tongue  ...  \\\n",
              "0       0           0             0        0                 0  ...   \n",
              "1       0           0             0        0                 0  ...   \n",
              "2       0           0             0        0                 0  ...   \n",
              "3       0           0             0        0                 0  ...   \n",
              "4       0           0             0        0                 0  ...   \n",
              "\n",
              "   blackheads  scurring  skin_peeling  silver_like_dusting  \\\n",
              "0           0         0             0                    0   \n",
              "1           0         0             0                    0   \n",
              "2           0         0             0                    0   \n",
              "3           0         0             0                    0   \n",
              "4           0         0             0                    0   \n",
              "\n",
              "   small_dents_in_nails  inflammatory_nails  blister  red_sore_around_nose  \\\n",
              "0                     0                   0        0                     0   \n",
              "1                     0                   0        0                     0   \n",
              "2                     0                   0        0                     0   \n",
              "3                     0                   0        0                     0   \n",
              "4                     0                   0        0                     0   \n",
              "\n",
              "   yellow_crust_ooze         prognosis  \n",
              "0                  0  Fungal infection  \n",
              "1                  0  Fungal infection  \n",
              "2                  0  Fungal infection  \n",
              "3                  0  Fungal infection  \n",
              "4                  0  Fungal infection  \n",
              "\n",
              "[5 rows x 133 columns]"
            ],
            "text/html": [
              "\n",
              "  <div id=\"df-5609a69f-2452-4d7a-9354-9957b0d1dbcd\">\n",
              "    <div class=\"colab-df-container\">\n",
              "      <div>\n",
              "<style scoped>\n",
              "    .dataframe tbody tr th:only-of-type {\n",
              "        vertical-align: middle;\n",
              "    }\n",
              "\n",
              "    .dataframe tbody tr th {\n",
              "        vertical-align: top;\n",
              "    }\n",
              "\n",
              "    .dataframe thead th {\n",
              "        text-align: right;\n",
              "    }\n",
              "</style>\n",
              "<table border=\"1\" class=\"dataframe\">\n",
              "  <thead>\n",
              "    <tr style=\"text-align: right;\">\n",
              "      <th></th>\n",
              "      <th>itching</th>\n",
              "      <th>skin_rash</th>\n",
              "      <th>nodal_skin_eruptions</th>\n",
              "      <th>continuous_sneezing</th>\n",
              "      <th>shivering</th>\n",
              "      <th>chills</th>\n",
              "      <th>joint_pain</th>\n",
              "      <th>stomach_pain</th>\n",
              "      <th>acidity</th>\n",
              "      <th>ulcers_on_tongue</th>\n",
              "      <th>...</th>\n",
              "      <th>blackheads</th>\n",
              "      <th>scurring</th>\n",
              "      <th>skin_peeling</th>\n",
              "      <th>silver_like_dusting</th>\n",
              "      <th>small_dents_in_nails</th>\n",
              "      <th>inflammatory_nails</th>\n",
              "      <th>blister</th>\n",
              "      <th>red_sore_around_nose</th>\n",
              "      <th>yellow_crust_ooze</th>\n",
              "      <th>prognosis</th>\n",
              "    </tr>\n",
              "  </thead>\n",
              "  <tbody>\n",
              "    <tr>\n",
              "      <th>0</th>\n",
              "      <td>1</td>\n",
              "      <td>1</td>\n",
              "      <td>1</td>\n",
              "      <td>0</td>\n",
              "      <td>0</td>\n",
              "      <td>0</td>\n",
              "      <td>0</td>\n",
              "      <td>0</td>\n",
              "      <td>0</td>\n",
              "      <td>0</td>\n",
              "      <td>...</td>\n",
              "      <td>0</td>\n",
              "      <td>0</td>\n",
              "      <td>0</td>\n",
              "      <td>0</td>\n",
              "      <td>0</td>\n",
              "      <td>0</td>\n",
              "      <td>0</td>\n",
              "      <td>0</td>\n",
              "      <td>0</td>\n",
              "      <td>Fungal infection</td>\n",
              "    </tr>\n",
              "    <tr>\n",
              "      <th>1</th>\n",
              "      <td>0</td>\n",
              "      <td>1</td>\n",
              "      <td>1</td>\n",
              "      <td>0</td>\n",
              "      <td>0</td>\n",
              "      <td>0</td>\n",
              "      <td>0</td>\n",
              "      <td>0</td>\n",
              "      <td>0</td>\n",
              "      <td>0</td>\n",
              "      <td>...</td>\n",
              "      <td>0</td>\n",
              "      <td>0</td>\n",
              "      <td>0</td>\n",
              "      <td>0</td>\n",
              "      <td>0</td>\n",
              "      <td>0</td>\n",
              "      <td>0</td>\n",
              "      <td>0</td>\n",
              "      <td>0</td>\n",
              "      <td>Fungal infection</td>\n",
              "    </tr>\n",
              "    <tr>\n",
              "      <th>2</th>\n",
              "      <td>1</td>\n",
              "      <td>0</td>\n",
              "      <td>1</td>\n",
              "      <td>0</td>\n",
              "      <td>0</td>\n",
              "      <td>0</td>\n",
              "      <td>0</td>\n",
              "      <td>0</td>\n",
              "      <td>0</td>\n",
              "      <td>0</td>\n",
              "      <td>...</td>\n",
              "      <td>0</td>\n",
              "      <td>0</td>\n",
              "      <td>0</td>\n",
              "      <td>0</td>\n",
              "      <td>0</td>\n",
              "      <td>0</td>\n",
              "      <td>0</td>\n",
              "      <td>0</td>\n",
              "      <td>0</td>\n",
              "      <td>Fungal infection</td>\n",
              "    </tr>\n",
              "    <tr>\n",
              "      <th>3</th>\n",
              "      <td>1</td>\n",
              "      <td>1</td>\n",
              "      <td>0</td>\n",
              "      <td>0</td>\n",
              "      <td>0</td>\n",
              "      <td>0</td>\n",
              "      <td>0</td>\n",
              "      <td>0</td>\n",
              "      <td>0</td>\n",
              "      <td>0</td>\n",
              "      <td>...</td>\n",
              "      <td>0</td>\n",
              "      <td>0</td>\n",
              "      <td>0</td>\n",
              "      <td>0</td>\n",
              "      <td>0</td>\n",
              "      <td>0</td>\n",
              "      <td>0</td>\n",
              "      <td>0</td>\n",
              "      <td>0</td>\n",
              "      <td>Fungal infection</td>\n",
              "    </tr>\n",
              "    <tr>\n",
              "      <th>4</th>\n",
              "      <td>1</td>\n",
              "      <td>1</td>\n",
              "      <td>1</td>\n",
              "      <td>0</td>\n",
              "      <td>0</td>\n",
              "      <td>0</td>\n",
              "      <td>0</td>\n",
              "      <td>0</td>\n",
              "      <td>0</td>\n",
              "      <td>0</td>\n",
              "      <td>...</td>\n",
              "      <td>0</td>\n",
              "      <td>0</td>\n",
              "      <td>0</td>\n",
              "      <td>0</td>\n",
              "      <td>0</td>\n",
              "      <td>0</td>\n",
              "      <td>0</td>\n",
              "      <td>0</td>\n",
              "      <td>0</td>\n",
              "      <td>Fungal infection</td>\n",
              "    </tr>\n",
              "  </tbody>\n",
              "</table>\n",
              "<p>5 rows × 133 columns</p>\n",
              "</div>\n",
              "      <button class=\"colab-df-convert\" onclick=\"convertToInteractive('df-5609a69f-2452-4d7a-9354-9957b0d1dbcd')\"\n",
              "              title=\"Convert this dataframe to an interactive table.\"\n",
              "              style=\"display:none;\">\n",
              "        \n",
              "  <svg xmlns=\"http://www.w3.org/2000/svg\" height=\"24px\"viewBox=\"0 0 24 24\"\n",
              "       width=\"24px\">\n",
              "    <path d=\"M0 0h24v24H0V0z\" fill=\"none\"/>\n",
              "    <path d=\"M18.56 5.44l.94 2.06.94-2.06 2.06-.94-2.06-.94-.94-2.06-.94 2.06-2.06.94zm-11 1L8.5 8.5l.94-2.06 2.06-.94-2.06-.94L8.5 2.5l-.94 2.06-2.06.94zm10 10l.94 2.06.94-2.06 2.06-.94-2.06-.94-.94-2.06-.94 2.06-2.06.94z\"/><path d=\"M17.41 7.96l-1.37-1.37c-.4-.4-.92-.59-1.43-.59-.52 0-1.04.2-1.43.59L10.3 9.45l-7.72 7.72c-.78.78-.78 2.05 0 2.83L4 21.41c.39.39.9.59 1.41.59.51 0 1.02-.2 1.41-.59l7.78-7.78 2.81-2.81c.8-.78.8-2.07 0-2.86zM5.41 20L4 18.59l7.72-7.72 1.47 1.35L5.41 20z\"/>\n",
              "  </svg>\n",
              "      </button>\n",
              "      \n",
              "  <style>\n",
              "    .colab-df-container {\n",
              "      display:flex;\n",
              "      flex-wrap:wrap;\n",
              "      gap: 12px;\n",
              "    }\n",
              "\n",
              "    .colab-df-convert {\n",
              "      background-color: #E8F0FE;\n",
              "      border: none;\n",
              "      border-radius: 50%;\n",
              "      cursor: pointer;\n",
              "      display: none;\n",
              "      fill: #1967D2;\n",
              "      height: 32px;\n",
              "      padding: 0 0 0 0;\n",
              "      width: 32px;\n",
              "    }\n",
              "\n",
              "    .colab-df-convert:hover {\n",
              "      background-color: #E2EBFA;\n",
              "      box-shadow: 0px 1px 2px rgba(60, 64, 67, 0.3), 0px 1px 3px 1px rgba(60, 64, 67, 0.15);\n",
              "      fill: #174EA6;\n",
              "    }\n",
              "\n",
              "    [theme=dark] .colab-df-convert {\n",
              "      background-color: #3B4455;\n",
              "      fill: #D2E3FC;\n",
              "    }\n",
              "\n",
              "    [theme=dark] .colab-df-convert:hover {\n",
              "      background-color: #434B5C;\n",
              "      box-shadow: 0px 1px 3px 1px rgba(0, 0, 0, 0.15);\n",
              "      filter: drop-shadow(0px 1px 2px rgba(0, 0, 0, 0.3));\n",
              "      fill: #FFFFFF;\n",
              "    }\n",
              "  </style>\n",
              "\n",
              "      <script>\n",
              "        const buttonEl =\n",
              "          document.querySelector('#df-5609a69f-2452-4d7a-9354-9957b0d1dbcd button.colab-df-convert');\n",
              "        buttonEl.style.display =\n",
              "          google.colab.kernel.accessAllowed ? 'block' : 'none';\n",
              "\n",
              "        async function convertToInteractive(key) {\n",
              "          const element = document.querySelector('#df-5609a69f-2452-4d7a-9354-9957b0d1dbcd');\n",
              "          const dataTable =\n",
              "            await google.colab.kernel.invokeFunction('convertToInteractive',\n",
              "                                                     [key], {});\n",
              "          if (!dataTable) return;\n",
              "\n",
              "          const docLinkHtml = 'Like what you see? Visit the ' +\n",
              "            '<a target=\"_blank\" href=https://colab.research.google.com/notebooks/data_table.ipynb>data table notebook</a>'\n",
              "            + ' to learn more about interactive tables.';\n",
              "          element.innerHTML = '';\n",
              "          dataTable['output_type'] = 'display_data';\n",
              "          await google.colab.output.renderOutput(dataTable, element);\n",
              "          const docLink = document.createElement('div');\n",
              "          docLink.innerHTML = docLinkHtml;\n",
              "          element.appendChild(docLink);\n",
              "        }\n",
              "      </script>\n",
              "    </div>\n",
              "  </div>\n",
              "  "
            ]
          },
          "metadata": {},
          "execution_count": 133
        }
      ]
    },
    {
      "cell_type": "code",
      "metadata": {
        "id": "MpHxRNua9V1s"
      },
      "source": [
        "dict_Diseases = {'Fungal infection':0, 'Allergy':1, 'GERD':2, 'Chronic cholestasis':3,\n",
        "       'Drug Reaction':4, 'Peptic ulcer diseae':5, 'AIDS':6, 'Diabetes ':7,\n",
        "       'Gastroenteritis':8, 'Bronchial Asthma':9, 'Hypertension ':10, 'Migraine':11,\n",
        "       'Cervical spondylosis':12, 'Paralysis (brain hemorrhage)':13, 'Jaundice':14,\n",
        "       'Malaria':15, 'Chicken pox':16, 'Dengue':17, 'Typhoid':18, 'hepatitis A':19,\n",
        "       'Hepatitis B':20, 'Hepatitis C':21, 'Hepatitis D':22, 'Hepatitis E':23,\n",
        "       'Alcoholic hepatitis':24, 'Tuberculosis':25, 'Common Cold':26, 'Pneumonia':27,\n",
        "       'Dimorphic hemmorhoids(piles)':28, 'Heart attack':29, 'Varicose veins':30,\n",
        "       'Hypothyroidism':31, 'Hyperthyroidism':32, 'Hypoglycemia':33,\n",
        "       'Osteoarthristis':34, 'Arthritis':35,\n",
        "       '(vertigo) Paroymsal  Positional Vertigo':36, 'Acne':37,\n",
        "       'Urinary tract infection':38, 'Psoriasis':39, 'Impetigo':40}"
      ],
      "execution_count": 134,
      "outputs": []
    },
    {
      "cell_type": "code",
      "source": [
        "list_Diseases = Train_set['prognosis'].unique()"
      ],
      "metadata": {
        "id": "dS07uY8x6Utj"
      },
      "execution_count": 135,
      "outputs": []
    },
    {
      "cell_type": "code",
      "metadata": {
        "id": "YFUA6eB0EI6V"
      },
      "source": [
        "#Let's map Train_set['prognosis'] to dict_Diseases\n",
        "\n",
        "Train_set['prognosis'] = Train_set['prognosis'].map(dict_Diseases)"
      ],
      "execution_count": 136,
      "outputs": []
    },
    {
      "cell_type": "code",
      "metadata": {
        "id": "bYNO1Wcm8KTF"
      },
      "source": [
        "#Let's assign Prognosis to Y(label)\n",
        "\n",
        "Y = Train_set['prognosis']\n"
      ],
      "execution_count": 137,
      "outputs": []
    },
    {
      "cell_type": "code",
      "metadata": {
        "id": "xrkbz8CRE1r8"
      },
      "source": [
        "#Let's assign the columns other than prognosis to Features\n",
        "\n",
        "Features = Train_set.drop(['prognosis'],axis=1)\n"
      ],
      "execution_count": 138,
      "outputs": []
    },
    {
      "cell_type": "code",
      "metadata": {
        "id": "1m_zROyhjLCG",
        "colab": {
          "base_uri": "https://localhost:8080/",
          "height": 300
        },
        "outputId": "d0d0b43a-1a50-4b66-8783-7a321824ca17"
      },
      "source": [
        "Features.head()"
      ],
      "execution_count": 139,
      "outputs": [
        {
          "output_type": "execute_result",
          "data": {
            "text/plain": [
              "   itching  skin_rash  nodal_skin_eruptions  continuous_sneezing  shivering  \\\n",
              "0        1          1                     1                    0          0   \n",
              "1        0          1                     1                    0          0   \n",
              "2        1          0                     1                    0          0   \n",
              "3        1          1                     0                    0          0   \n",
              "4        1          1                     1                    0          0   \n",
              "\n",
              "   chills  joint_pain  stomach_pain  acidity  ulcers_on_tongue  ...  \\\n",
              "0       0           0             0        0                 0  ...   \n",
              "1       0           0             0        0                 0  ...   \n",
              "2       0           0             0        0                 0  ...   \n",
              "3       0           0             0        0                 0  ...   \n",
              "4       0           0             0        0                 0  ...   \n",
              "\n",
              "   pus_filled_pimples  blackheads  scurring  skin_peeling  \\\n",
              "0                   0           0         0             0   \n",
              "1                   0           0         0             0   \n",
              "2                   0           0         0             0   \n",
              "3                   0           0         0             0   \n",
              "4                   0           0         0             0   \n",
              "\n",
              "   silver_like_dusting  small_dents_in_nails  inflammatory_nails  blister  \\\n",
              "0                    0                     0                   0        0   \n",
              "1                    0                     0                   0        0   \n",
              "2                    0                     0                   0        0   \n",
              "3                    0                     0                   0        0   \n",
              "4                    0                     0                   0        0   \n",
              "\n",
              "   red_sore_around_nose  yellow_crust_ooze  \n",
              "0                     0                  0  \n",
              "1                     0                  0  \n",
              "2                     0                  0  \n",
              "3                     0                  0  \n",
              "4                     0                  0  \n",
              "\n",
              "[5 rows x 132 columns]"
            ],
            "text/html": [
              "\n",
              "  <div id=\"df-e6b9c962-686f-43ba-a132-809a1ccbd115\">\n",
              "    <div class=\"colab-df-container\">\n",
              "      <div>\n",
              "<style scoped>\n",
              "    .dataframe tbody tr th:only-of-type {\n",
              "        vertical-align: middle;\n",
              "    }\n",
              "\n",
              "    .dataframe tbody tr th {\n",
              "        vertical-align: top;\n",
              "    }\n",
              "\n",
              "    .dataframe thead th {\n",
              "        text-align: right;\n",
              "    }\n",
              "</style>\n",
              "<table border=\"1\" class=\"dataframe\">\n",
              "  <thead>\n",
              "    <tr style=\"text-align: right;\">\n",
              "      <th></th>\n",
              "      <th>itching</th>\n",
              "      <th>skin_rash</th>\n",
              "      <th>nodal_skin_eruptions</th>\n",
              "      <th>continuous_sneezing</th>\n",
              "      <th>shivering</th>\n",
              "      <th>chills</th>\n",
              "      <th>joint_pain</th>\n",
              "      <th>stomach_pain</th>\n",
              "      <th>acidity</th>\n",
              "      <th>ulcers_on_tongue</th>\n",
              "      <th>...</th>\n",
              "      <th>pus_filled_pimples</th>\n",
              "      <th>blackheads</th>\n",
              "      <th>scurring</th>\n",
              "      <th>skin_peeling</th>\n",
              "      <th>silver_like_dusting</th>\n",
              "      <th>small_dents_in_nails</th>\n",
              "      <th>inflammatory_nails</th>\n",
              "      <th>blister</th>\n",
              "      <th>red_sore_around_nose</th>\n",
              "      <th>yellow_crust_ooze</th>\n",
              "    </tr>\n",
              "  </thead>\n",
              "  <tbody>\n",
              "    <tr>\n",
              "      <th>0</th>\n",
              "      <td>1</td>\n",
              "      <td>1</td>\n",
              "      <td>1</td>\n",
              "      <td>0</td>\n",
              "      <td>0</td>\n",
              "      <td>0</td>\n",
              "      <td>0</td>\n",
              "      <td>0</td>\n",
              "      <td>0</td>\n",
              "      <td>0</td>\n",
              "      <td>...</td>\n",
              "      <td>0</td>\n",
              "      <td>0</td>\n",
              "      <td>0</td>\n",
              "      <td>0</td>\n",
              "      <td>0</td>\n",
              "      <td>0</td>\n",
              "      <td>0</td>\n",
              "      <td>0</td>\n",
              "      <td>0</td>\n",
              "      <td>0</td>\n",
              "    </tr>\n",
              "    <tr>\n",
              "      <th>1</th>\n",
              "      <td>0</td>\n",
              "      <td>1</td>\n",
              "      <td>1</td>\n",
              "      <td>0</td>\n",
              "      <td>0</td>\n",
              "      <td>0</td>\n",
              "      <td>0</td>\n",
              "      <td>0</td>\n",
              "      <td>0</td>\n",
              "      <td>0</td>\n",
              "      <td>...</td>\n",
              "      <td>0</td>\n",
              "      <td>0</td>\n",
              "      <td>0</td>\n",
              "      <td>0</td>\n",
              "      <td>0</td>\n",
              "      <td>0</td>\n",
              "      <td>0</td>\n",
              "      <td>0</td>\n",
              "      <td>0</td>\n",
              "      <td>0</td>\n",
              "    </tr>\n",
              "    <tr>\n",
              "      <th>2</th>\n",
              "      <td>1</td>\n",
              "      <td>0</td>\n",
              "      <td>1</td>\n",
              "      <td>0</td>\n",
              "      <td>0</td>\n",
              "      <td>0</td>\n",
              "      <td>0</td>\n",
              "      <td>0</td>\n",
              "      <td>0</td>\n",
              "      <td>0</td>\n",
              "      <td>...</td>\n",
              "      <td>0</td>\n",
              "      <td>0</td>\n",
              "      <td>0</td>\n",
              "      <td>0</td>\n",
              "      <td>0</td>\n",
              "      <td>0</td>\n",
              "      <td>0</td>\n",
              "      <td>0</td>\n",
              "      <td>0</td>\n",
              "      <td>0</td>\n",
              "    </tr>\n",
              "    <tr>\n",
              "      <th>3</th>\n",
              "      <td>1</td>\n",
              "      <td>1</td>\n",
              "      <td>0</td>\n",
              "      <td>0</td>\n",
              "      <td>0</td>\n",
              "      <td>0</td>\n",
              "      <td>0</td>\n",
              "      <td>0</td>\n",
              "      <td>0</td>\n",
              "      <td>0</td>\n",
              "      <td>...</td>\n",
              "      <td>0</td>\n",
              "      <td>0</td>\n",
              "      <td>0</td>\n",
              "      <td>0</td>\n",
              "      <td>0</td>\n",
              "      <td>0</td>\n",
              "      <td>0</td>\n",
              "      <td>0</td>\n",
              "      <td>0</td>\n",
              "      <td>0</td>\n",
              "    </tr>\n",
              "    <tr>\n",
              "      <th>4</th>\n",
              "      <td>1</td>\n",
              "      <td>1</td>\n",
              "      <td>1</td>\n",
              "      <td>0</td>\n",
              "      <td>0</td>\n",
              "      <td>0</td>\n",
              "      <td>0</td>\n",
              "      <td>0</td>\n",
              "      <td>0</td>\n",
              "      <td>0</td>\n",
              "      <td>...</td>\n",
              "      <td>0</td>\n",
              "      <td>0</td>\n",
              "      <td>0</td>\n",
              "      <td>0</td>\n",
              "      <td>0</td>\n",
              "      <td>0</td>\n",
              "      <td>0</td>\n",
              "      <td>0</td>\n",
              "      <td>0</td>\n",
              "      <td>0</td>\n",
              "    </tr>\n",
              "  </tbody>\n",
              "</table>\n",
              "<p>5 rows × 132 columns</p>\n",
              "</div>\n",
              "      <button class=\"colab-df-convert\" onclick=\"convertToInteractive('df-e6b9c962-686f-43ba-a132-809a1ccbd115')\"\n",
              "              title=\"Convert this dataframe to an interactive table.\"\n",
              "              style=\"display:none;\">\n",
              "        \n",
              "  <svg xmlns=\"http://www.w3.org/2000/svg\" height=\"24px\"viewBox=\"0 0 24 24\"\n",
              "       width=\"24px\">\n",
              "    <path d=\"M0 0h24v24H0V0z\" fill=\"none\"/>\n",
              "    <path d=\"M18.56 5.44l.94 2.06.94-2.06 2.06-.94-2.06-.94-.94-2.06-.94 2.06-2.06.94zm-11 1L8.5 8.5l.94-2.06 2.06-.94-2.06-.94L8.5 2.5l-.94 2.06-2.06.94zm10 10l.94 2.06.94-2.06 2.06-.94-2.06-.94-.94-2.06-.94 2.06-2.06.94z\"/><path d=\"M17.41 7.96l-1.37-1.37c-.4-.4-.92-.59-1.43-.59-.52 0-1.04.2-1.43.59L10.3 9.45l-7.72 7.72c-.78.78-.78 2.05 0 2.83L4 21.41c.39.39.9.59 1.41.59.51 0 1.02-.2 1.41-.59l7.78-7.78 2.81-2.81c.8-.78.8-2.07 0-2.86zM5.41 20L4 18.59l7.72-7.72 1.47 1.35L5.41 20z\"/>\n",
              "  </svg>\n",
              "      </button>\n",
              "      \n",
              "  <style>\n",
              "    .colab-df-container {\n",
              "      display:flex;\n",
              "      flex-wrap:wrap;\n",
              "      gap: 12px;\n",
              "    }\n",
              "\n",
              "    .colab-df-convert {\n",
              "      background-color: #E8F0FE;\n",
              "      border: none;\n",
              "      border-radius: 50%;\n",
              "      cursor: pointer;\n",
              "      display: none;\n",
              "      fill: #1967D2;\n",
              "      height: 32px;\n",
              "      padding: 0 0 0 0;\n",
              "      width: 32px;\n",
              "    }\n",
              "\n",
              "    .colab-df-convert:hover {\n",
              "      background-color: #E2EBFA;\n",
              "      box-shadow: 0px 1px 2px rgba(60, 64, 67, 0.3), 0px 1px 3px 1px rgba(60, 64, 67, 0.15);\n",
              "      fill: #174EA6;\n",
              "    }\n",
              "\n",
              "    [theme=dark] .colab-df-convert {\n",
              "      background-color: #3B4455;\n",
              "      fill: #D2E3FC;\n",
              "    }\n",
              "\n",
              "    [theme=dark] .colab-df-convert:hover {\n",
              "      background-color: #434B5C;\n",
              "      box-shadow: 0px 1px 3px 1px rgba(0, 0, 0, 0.15);\n",
              "      filter: drop-shadow(0px 1px 2px rgba(0, 0, 0, 0.3));\n",
              "      fill: #FFFFFF;\n",
              "    }\n",
              "  </style>\n",
              "\n",
              "      <script>\n",
              "        const buttonEl =\n",
              "          document.querySelector('#df-e6b9c962-686f-43ba-a132-809a1ccbd115 button.colab-df-convert');\n",
              "        buttonEl.style.display =\n",
              "          google.colab.kernel.accessAllowed ? 'block' : 'none';\n",
              "\n",
              "        async function convertToInteractive(key) {\n",
              "          const element = document.querySelector('#df-e6b9c962-686f-43ba-a132-809a1ccbd115');\n",
              "          const dataTable =\n",
              "            await google.colab.kernel.invokeFunction('convertToInteractive',\n",
              "                                                     [key], {});\n",
              "          if (!dataTable) return;\n",
              "\n",
              "          const docLinkHtml = 'Like what you see? Visit the ' +\n",
              "            '<a target=\"_blank\" href=https://colab.research.google.com/notebooks/data_table.ipynb>data table notebook</a>'\n",
              "            + ' to learn more about interactive tables.';\n",
              "          element.innerHTML = '';\n",
              "          dataTable['output_type'] = 'display_data';\n",
              "          await google.colab.output.renderOutput(dataTable, element);\n",
              "          const docLink = document.createElement('div');\n",
              "          docLink.innerHTML = docLinkHtml;\n",
              "          element.appendChild(docLink);\n",
              "        }\n",
              "      </script>\n",
              "    </div>\n",
              "  </div>\n",
              "  "
            ]
          },
          "metadata": {},
          "execution_count": 139
        }
      ]
    },
    {
      "cell_type": "markdown",
      "metadata": {
        "id": "KW44HWH9GMUQ"
      },
      "source": [
        "#Train_Test_Split"
      ]
    },
    {
      "cell_type": "code",
      "metadata": {
        "id": "uzw6lIyDGPxR"
      },
      "source": [
        "from sklearn.model_selection import train_test_split"
      ],
      "execution_count": 140,
      "outputs": []
    },
    {
      "cell_type": "code",
      "metadata": {
        "id": "1sfw39usGSTQ"
      },
      "source": [
        "#Let's assign that PCA_Norm_Features to X so that we could use this X to train our model\n",
        "X=Features\n",
        "#X = Norm_Features"
      ],
      "execution_count": 141,
      "outputs": []
    },
    {
      "cell_type": "code",
      "metadata": {
        "id": "a5fJnAaZGZg0"
      },
      "source": [
        "#To measure the training accuracy and test accuracy while training the model, we split the given Train_set\n",
        "no_diseases = 41\n",
        "targets = Y\n",
        "one_hot = np.eye(41)[targets]\n",
        "\n",
        "X_train , X_test , y_train , y_test = train_test_split( X , one_hot , test_size=0.33, random_state = 6)\n",
        "x_train , x_test , Y_train , Y_test = train_test_split( X , Y , test_size=0.33, random_state = 6)"
      ],
      "execution_count": 142,
      "outputs": []
    },
    {
      "cell_type": "markdown",
      "metadata": {
        "id": "HH0CrDmqusbt"
      },
      "source": [
        "#Keras"
      ]
    },
    {
      "cell_type": "code",
      "metadata": {
        "id": "n34NRGm6J5YT",
        "colab": {
          "base_uri": "https://localhost:8080/"
        },
        "outputId": "183f3b86-fdbc-4a16-ae4f-ed05d814c287"
      },
      "source": [
        "import keras\n",
        "from keras.models import Sequential\n",
        "from keras.layers import Dense\n",
        "import tensorflow as tf\n",
        "# Neural network\n",
        "model = Sequential()\n",
        "model.add(Dense(50, input_dim= 132, activation=\"relu\"))\n",
        "model.add(Dense(30, activation=\"relu\"))\n",
        "model.add(Dense(20, activation=\"relu\"))\n",
        "model.add(Dense(41, activation=\"softmax\"))\n",
        "model.compile(loss='categorical_crossentropy', optimizer='adam', metrics=['accuracy'])\n",
        "history = model.fit(X_train, y_train, epochs=100, batch_size=64)"
      ],
      "execution_count": 143,
      "outputs": [
        {
          "output_type": "stream",
          "name": "stdout",
          "text": [
            "Epoch 1/100\n",
            "52/52 [==============================] - 1s 2ms/step - loss: 3.5048 - accuracy: 0.1235\n",
            "Epoch 2/100\n",
            "52/52 [==============================] - 0s 2ms/step - loss: 2.4894 - accuracy: 0.4863\n",
            "Epoch 3/100\n",
            "52/52 [==============================] - 0s 2ms/step - loss: 0.9389 - accuracy: 0.9066\n",
            "Epoch 4/100\n",
            "52/52 [==============================] - 0s 2ms/step - loss: 0.2076 - accuracy: 1.0000\n",
            "Epoch 5/100\n",
            "52/52 [==============================] - 0s 2ms/step - loss: 0.0626 - accuracy: 1.0000\n",
            "Epoch 6/100\n",
            "52/52 [==============================] - 0s 2ms/step - loss: 0.0295 - accuracy: 1.0000\n",
            "Epoch 7/100\n",
            "52/52 [==============================] - 0s 2ms/step - loss: 0.0176 - accuracy: 1.0000\n",
            "Epoch 8/100\n",
            "52/52 [==============================] - 0s 2ms/step - loss: 0.0119 - accuracy: 1.0000\n",
            "Epoch 9/100\n",
            "52/52 [==============================] - 0s 2ms/step - loss: 0.0086 - accuracy: 1.0000\n",
            "Epoch 10/100\n",
            "52/52 [==============================] - 0s 2ms/step - loss: 0.0066 - accuracy: 1.0000\n",
            "Epoch 11/100\n",
            "52/52 [==============================] - 0s 2ms/step - loss: 0.0052 - accuracy: 1.0000\n",
            "Epoch 12/100\n",
            "52/52 [==============================] - 0s 2ms/step - loss: 0.0042 - accuracy: 1.0000\n",
            "Epoch 13/100\n",
            "52/52 [==============================] - 0s 2ms/step - loss: 0.0035 - accuracy: 1.0000\n",
            "Epoch 14/100\n",
            "52/52 [==============================] - 0s 2ms/step - loss: 0.0029 - accuracy: 1.0000\n",
            "Epoch 15/100\n",
            "52/52 [==============================] - 0s 2ms/step - loss: 0.0025 - accuracy: 1.0000\n",
            "Epoch 16/100\n",
            "52/52 [==============================] - 0s 2ms/step - loss: 0.0022 - accuracy: 1.0000\n",
            "Epoch 17/100\n",
            "52/52 [==============================] - 0s 2ms/step - loss: 0.0019 - accuracy: 1.0000\n",
            "Epoch 18/100\n",
            "52/52 [==============================] - 0s 2ms/step - loss: 0.0017 - accuracy: 1.0000\n",
            "Epoch 19/100\n",
            "52/52 [==============================] - 0s 2ms/step - loss: 0.0015 - accuracy: 1.0000\n",
            "Epoch 20/100\n",
            "52/52 [==============================] - 0s 2ms/step - loss: 0.0013 - accuracy: 1.0000\n",
            "Epoch 21/100\n",
            "52/52 [==============================] - 0s 2ms/step - loss: 0.0012 - accuracy: 1.0000\n",
            "Epoch 22/100\n",
            "52/52 [==============================] - 0s 2ms/step - loss: 0.0011 - accuracy: 1.0000\n",
            "Epoch 23/100\n",
            "52/52 [==============================] - 0s 2ms/step - loss: 9.7559e-04 - accuracy: 1.0000\n",
            "Epoch 24/100\n",
            "52/52 [==============================] - 0s 2ms/step - loss: 8.8777e-04 - accuracy: 1.0000\n",
            "Epoch 25/100\n",
            "52/52 [==============================] - 0s 2ms/step - loss: 8.1267e-04 - accuracy: 1.0000\n",
            "Epoch 26/100\n",
            "52/52 [==============================] - 0s 2ms/step - loss: 7.4625e-04 - accuracy: 1.0000\n",
            "Epoch 27/100\n",
            "52/52 [==============================] - 0s 2ms/step - loss: 6.8571e-04 - accuracy: 1.0000\n",
            "Epoch 28/100\n",
            "52/52 [==============================] - 0s 2ms/step - loss: 6.3124e-04 - accuracy: 1.0000\n",
            "Epoch 29/100\n",
            "52/52 [==============================] - 0s 2ms/step - loss: 5.8286e-04 - accuracy: 1.0000\n",
            "Epoch 30/100\n",
            "52/52 [==============================] - 0s 2ms/step - loss: 5.4116e-04 - accuracy: 1.0000\n",
            "Epoch 31/100\n",
            "52/52 [==============================] - 0s 2ms/step - loss: 5.0228e-04 - accuracy: 1.0000\n",
            "Epoch 32/100\n",
            "52/52 [==============================] - 0s 2ms/step - loss: 4.6695e-04 - accuracy: 1.0000\n",
            "Epoch 33/100\n",
            "52/52 [==============================] - 0s 2ms/step - loss: 4.3531e-04 - accuracy: 1.0000\n",
            "Epoch 34/100\n",
            "52/52 [==============================] - 0s 2ms/step - loss: 4.0719e-04 - accuracy: 1.0000\n",
            "Epoch 35/100\n",
            "52/52 [==============================] - 0s 2ms/step - loss: 3.8024e-04 - accuracy: 1.0000\n",
            "Epoch 36/100\n",
            "52/52 [==============================] - 0s 2ms/step - loss: 3.5559e-04 - accuracy: 1.0000\n",
            "Epoch 37/100\n",
            "52/52 [==============================] - 0s 2ms/step - loss: 3.3570e-04 - accuracy: 1.0000\n",
            "Epoch 38/100\n",
            "52/52 [==============================] - 0s 2ms/step - loss: 3.1469e-04 - accuracy: 1.0000\n",
            "Epoch 39/100\n",
            "52/52 [==============================] - 0s 2ms/step - loss: 2.9584e-04 - accuracy: 1.0000\n",
            "Epoch 40/100\n",
            "52/52 [==============================] - 0s 2ms/step - loss: 2.7842e-04 - accuracy: 1.0000\n",
            "Epoch 41/100\n",
            "52/52 [==============================] - 0s 2ms/step - loss: 2.6236e-04 - accuracy: 1.0000\n",
            "Epoch 42/100\n",
            "52/52 [==============================] - 0s 2ms/step - loss: 2.4806e-04 - accuracy: 1.0000\n",
            "Epoch 43/100\n",
            "52/52 [==============================] - 0s 2ms/step - loss: 2.3446e-04 - accuracy: 1.0000\n",
            "Epoch 44/100\n",
            "52/52 [==============================] - 0s 2ms/step - loss: 2.2172e-04 - accuracy: 1.0000\n",
            "Epoch 45/100\n",
            "52/52 [==============================] - 0s 2ms/step - loss: 2.1013e-04 - accuracy: 1.0000\n",
            "Epoch 46/100\n",
            "52/52 [==============================] - 0s 2ms/step - loss: 1.9919e-04 - accuracy: 1.0000\n",
            "Epoch 47/100\n",
            "52/52 [==============================] - 0s 2ms/step - loss: 1.8907e-04 - accuracy: 1.0000\n",
            "Epoch 48/100\n",
            "52/52 [==============================] - 0s 2ms/step - loss: 1.7990e-04 - accuracy: 1.0000\n",
            "Epoch 49/100\n",
            "52/52 [==============================] - 0s 2ms/step - loss: 1.7053e-04 - accuracy: 1.0000\n",
            "Epoch 50/100\n",
            "52/52 [==============================] - 0s 2ms/step - loss: 1.6227e-04 - accuracy: 1.0000\n",
            "Epoch 51/100\n",
            "52/52 [==============================] - 0s 2ms/step - loss: 1.5468e-04 - accuracy: 1.0000\n",
            "Epoch 52/100\n",
            "52/52 [==============================] - 0s 2ms/step - loss: 1.4710e-04 - accuracy: 1.0000\n",
            "Epoch 53/100\n",
            "52/52 [==============================] - 0s 3ms/step - loss: 1.4004e-04 - accuracy: 1.0000\n",
            "Epoch 54/100\n",
            "52/52 [==============================] - 0s 2ms/step - loss: 1.3269e-04 - accuracy: 1.0000\n",
            "Epoch 55/100\n",
            "52/52 [==============================] - 0s 2ms/step - loss: 1.2654e-04 - accuracy: 1.0000\n",
            "Epoch 56/100\n",
            "52/52 [==============================] - 0s 2ms/step - loss: 1.2080e-04 - accuracy: 1.0000\n",
            "Epoch 57/100\n",
            "52/52 [==============================] - 0s 2ms/step - loss: 1.1519e-04 - accuracy: 1.0000\n",
            "Epoch 58/100\n",
            "52/52 [==============================] - 0s 2ms/step - loss: 1.1027e-04 - accuracy: 1.0000\n",
            "Epoch 59/100\n",
            "52/52 [==============================] - 0s 2ms/step - loss: 1.0558e-04 - accuracy: 1.0000\n",
            "Epoch 60/100\n",
            "52/52 [==============================] - 0s 2ms/step - loss: 1.0071e-04 - accuracy: 1.0000\n",
            "Epoch 61/100\n",
            "52/52 [==============================] - 0s 2ms/step - loss: 9.6521e-05 - accuracy: 1.0000\n",
            "Epoch 62/100\n",
            "52/52 [==============================] - 0s 2ms/step - loss: 9.2438e-05 - accuracy: 1.0000\n",
            "Epoch 63/100\n",
            "52/52 [==============================] - 0s 2ms/step - loss: 8.8529e-05 - accuracy: 1.0000\n",
            "Epoch 64/100\n",
            "52/52 [==============================] - 0s 2ms/step - loss: 8.5283e-05 - accuracy: 1.0000\n",
            "Epoch 65/100\n",
            "52/52 [==============================] - 0s 2ms/step - loss: 8.1704e-05 - accuracy: 1.0000\n",
            "Epoch 66/100\n",
            "52/52 [==============================] - 0s 2ms/step - loss: 7.8188e-05 - accuracy: 1.0000\n",
            "Epoch 67/100\n",
            "52/52 [==============================] - 0s 2ms/step - loss: 7.4991e-05 - accuracy: 1.0000\n",
            "Epoch 68/100\n",
            "52/52 [==============================] - 0s 2ms/step - loss: 7.1896e-05 - accuracy: 1.0000\n",
            "Epoch 69/100\n",
            "52/52 [==============================] - 0s 2ms/step - loss: 6.9040e-05 - accuracy: 1.0000\n",
            "Epoch 70/100\n",
            "52/52 [==============================] - 0s 2ms/step - loss: 6.6446e-05 - accuracy: 1.0000\n",
            "Epoch 71/100\n",
            "52/52 [==============================] - 0s 2ms/step - loss: 6.3818e-05 - accuracy: 1.0000\n",
            "Epoch 72/100\n",
            "52/52 [==============================] - 0s 2ms/step - loss: 6.1244e-05 - accuracy: 1.0000\n",
            "Epoch 73/100\n",
            "52/52 [==============================] - 0s 2ms/step - loss: 5.8965e-05 - accuracy: 1.0000\n",
            "Epoch 74/100\n",
            "52/52 [==============================] - 0s 2ms/step - loss: 5.6735e-05 - accuracy: 1.0000\n",
            "Epoch 75/100\n",
            "52/52 [==============================] - 0s 2ms/step - loss: 5.4646e-05 - accuracy: 1.0000\n",
            "Epoch 76/100\n",
            "52/52 [==============================] - 0s 2ms/step - loss: 5.2503e-05 - accuracy: 1.0000\n",
            "Epoch 77/100\n",
            "52/52 [==============================] - 0s 2ms/step - loss: 5.0589e-05 - accuracy: 1.0000\n",
            "Epoch 78/100\n",
            "52/52 [==============================] - 0s 2ms/step - loss: 4.8650e-05 - accuracy: 1.0000\n",
            "Epoch 79/100\n",
            "52/52 [==============================] - 0s 2ms/step - loss: 4.6880e-05 - accuracy: 1.0000\n",
            "Epoch 80/100\n",
            "52/52 [==============================] - 0s 2ms/step - loss: 4.5229e-05 - accuracy: 1.0000\n",
            "Epoch 81/100\n",
            "52/52 [==============================] - 0s 2ms/step - loss: 4.3560e-05 - accuracy: 1.0000\n",
            "Epoch 82/100\n",
            "52/52 [==============================] - 0s 2ms/step - loss: 4.2024e-05 - accuracy: 1.0000\n",
            "Epoch 83/100\n",
            "52/52 [==============================] - 0s 2ms/step - loss: 4.0485e-05 - accuracy: 1.0000\n",
            "Epoch 84/100\n",
            "52/52 [==============================] - 0s 3ms/step - loss: 3.9176e-05 - accuracy: 1.0000\n",
            "Epoch 85/100\n",
            "52/52 [==============================] - 0s 2ms/step - loss: 3.7655e-05 - accuracy: 1.0000\n",
            "Epoch 86/100\n",
            "52/52 [==============================] - 0s 2ms/step - loss: 3.6382e-05 - accuracy: 1.0000\n",
            "Epoch 87/100\n",
            "52/52 [==============================] - 0s 2ms/step - loss: 3.5051e-05 - accuracy: 1.0000\n",
            "Epoch 88/100\n",
            "52/52 [==============================] - 0s 2ms/step - loss: 3.3849e-05 - accuracy: 1.0000\n",
            "Epoch 89/100\n",
            "52/52 [==============================] - 0s 2ms/step - loss: 3.2680e-05 - accuracy: 1.0000\n",
            "Epoch 90/100\n",
            "52/52 [==============================] - 0s 2ms/step - loss: 3.1611e-05 - accuracy: 1.0000\n",
            "Epoch 91/100\n",
            "52/52 [==============================] - 0s 2ms/step - loss: 3.0541e-05 - accuracy: 1.0000\n",
            "Epoch 92/100\n",
            "52/52 [==============================] - 0s 2ms/step - loss: 2.9414e-05 - accuracy: 1.0000\n",
            "Epoch 93/100\n",
            "52/52 [==============================] - 0s 2ms/step - loss: 2.8492e-05 - accuracy: 1.0000\n",
            "Epoch 94/100\n",
            "52/52 [==============================] - 0s 2ms/step - loss: 2.7457e-05 - accuracy: 1.0000\n",
            "Epoch 95/100\n",
            "52/52 [==============================] - 0s 2ms/step - loss: 2.6521e-05 - accuracy: 1.0000\n",
            "Epoch 96/100\n",
            "52/52 [==============================] - 0s 2ms/step - loss: 2.5706e-05 - accuracy: 1.0000\n",
            "Epoch 97/100\n",
            "52/52 [==============================] - 0s 2ms/step - loss: 2.4724e-05 - accuracy: 1.0000\n",
            "Epoch 98/100\n",
            "52/52 [==============================] - 0s 2ms/step - loss: 2.3937e-05 - accuracy: 1.0000\n",
            "Epoch 99/100\n",
            "52/52 [==============================] - 0s 2ms/step - loss: 2.3121e-05 - accuracy: 1.0000\n",
            "Epoch 100/100\n",
            "52/52 [==============================] - 0s 2ms/step - loss: 2.2378e-05 - accuracy: 1.0000\n"
          ]
        }
      ]
    },
    {
      "cell_type": "markdown",
      "metadata": {
        "id": "eSankELIhKP3"
      },
      "source": [
        "#Sample"
      ]
    },
    {
      "cell_type": "code",
      "metadata": {
        "id": "te2dFzmi7Zmf"
      },
      "source": [
        "y_pred = model.predict(X_test)\n",
        "#Converting predictions to label\n",
        "pred = list()\n",
        "for i in range(len(y_pred)):\n",
        "    pred.append(np.argmax(y_pred[i]))\n",
        "#Converting one hot encoded test label to label\n",
        "test = list()\n",
        "for i in range(len(y_test)):\n",
        "    test.append(np.argmax(y_test[i]))\n",
        "count = 0\n",
        "for t in range(len(test)):\n",
        "  if test[t] == pred[t]:\n",
        "    count += 1"
      ],
      "execution_count": 144,
      "outputs": []
    },
    {
      "cell_type": "markdown",
      "metadata": {
        "id": "Q9Hc53UBof5-"
      },
      "source": [
        "#Tflite"
      ]
    },
    {
      "cell_type": "code",
      "metadata": {
        "id": "JFQpDxv6FCjg"
      },
      "source": [
        "from tensorflow import lite  \n"
      ],
      "execution_count": 145,
      "outputs": []
    },
    {
      "cell_type": "code",
      "metadata": {
        "id": "AP7gvyJtKnr4",
        "colab": {
          "base_uri": "https://localhost:8080/"
        },
        "outputId": "244f9471-fbb2-4659-b412-2d5dcfa53021"
      },
      "source": [
        "# Convert Keras model to TF Lite format.\n",
        "converter = tf.lite.TFLiteConverter.from_keras_model(model)\n",
        "tflite_float_model = converter.convert()\n",
        "\n",
        "# Show model size in KBs.\n",
        "float_model_size = len(tflite_float_model) / 1024\n",
        "print('Float model size = %dKBs.' % float_model_size)"
      ],
      "execution_count": 146,
      "outputs": [
        {
          "output_type": "stream",
          "name": "stdout",
          "text": [
            "INFO:tensorflow:Assets written to: /tmp/tmp4bj8wlql/assets\n"
          ]
        },
        {
          "output_type": "stream",
          "name": "stderr",
          "text": [
            "INFO:tensorflow:Assets written to: /tmp/tmp4bj8wlql/assets\n",
            "WARNING:absl:Buffer deduplication procedure will be skipped when flatbuffer library is not properly loaded\n"
          ]
        },
        {
          "output_type": "stream",
          "name": "stdout",
          "text": [
            "Float model size = 39KBs.\n"
          ]
        }
      ]
    },
    {
      "cell_type": "code",
      "metadata": {
        "id": "gApYhRoYKpfZ",
        "colab": {
          "base_uri": "https://localhost:8080/"
        },
        "outputId": "6abafd67-aa39-4d4e-80f3-7494baa15cf1"
      },
      "source": [
        "# Re-convert the model to TF Lite using quantization.\n",
        "converter.optimizations = [tf.lite.Optimize.DEFAULT]\n",
        "tflite_quantized_model = converter.convert()\n",
        "\n",
        "# Show model size in KBs.\n",
        "quantized_model_size = len(tflite_quantized_model) / 1024\n",
        "print('Quantized model size = %dKBs,' % quantized_model_size)\n",
        "print('which is about %d%% of the float model size.'\\\n",
        "      % (quantized_model_size * 100 / float_model_size))"
      ],
      "execution_count": 147,
      "outputs": [
        {
          "output_type": "stream",
          "name": "stdout",
          "text": [
            "INFO:tensorflow:Assets written to: /tmp/tmpr3wcd_au/assets\n"
          ]
        },
        {
          "output_type": "stream",
          "name": "stderr",
          "text": [
            "INFO:tensorflow:Assets written to: /tmp/tmpr3wcd_au/assets\n",
            "WARNING:absl:Buffer deduplication procedure will be skipped when flatbuffer library is not properly loaded\n"
          ]
        },
        {
          "output_type": "stream",
          "name": "stdout",
          "text": [
            "Quantized model size = 16KBs,\n",
            "which is about 41% of the float model size.\n"
          ]
        }
      ]
    },
    {
      "cell_type": "code",
      "metadata": {
        "id": "eAym2g6TKs54",
        "colab": {
          "base_uri": "https://localhost:8080/",
          "height": 34
        },
        "outputId": "99c36a92-7f4b-483a-f05f-b8c0481bac5c"
      },
      "source": [
        "# Save the quantized model to file to the Downloads directory\n",
        "f = open('vcare.tflite', \"wb\")\n",
        "f.write(tflite_quantized_model)\n",
        "f.close()\n",
        "\n",
        "# Download the digit classification model\n",
        "from google.colab import files\n",
        "files.download('vcare.tflite')\n",
        "\n",
        "print('`vcare.tflite` has been downloaded')"
      ],
      "execution_count": 148,
      "outputs": [
        {
          "output_type": "display_data",
          "data": {
            "text/plain": [
              "<IPython.core.display.Javascript object>"
            ],
            "application/javascript": [
              "\n",
              "    async function download(id, filename, size) {\n",
              "      if (!google.colab.kernel.accessAllowed) {\n",
              "        return;\n",
              "      }\n",
              "      const div = document.createElement('div');\n",
              "      const label = document.createElement('label');\n",
              "      label.textContent = `Downloading \"${filename}\": `;\n",
              "      div.appendChild(label);\n",
              "      const progress = document.createElement('progress');\n",
              "      progress.max = size;\n",
              "      div.appendChild(progress);\n",
              "      document.body.appendChild(div);\n",
              "\n",
              "      const buffers = [];\n",
              "      let downloaded = 0;\n",
              "\n",
              "      const channel = await google.colab.kernel.comms.open(id);\n",
              "      // Send a message to notify the kernel that we're ready.\n",
              "      channel.send({})\n",
              "\n",
              "      for await (const message of channel.messages) {\n",
              "        // Send a message to notify the kernel that we're ready.\n",
              "        channel.send({})\n",
              "        if (message.buffers) {\n",
              "          for (const buffer of message.buffers) {\n",
              "            buffers.push(buffer);\n",
              "            downloaded += buffer.byteLength;\n",
              "            progress.value = downloaded;\n",
              "          }\n",
              "        }\n",
              "      }\n",
              "      const blob = new Blob(buffers, {type: 'application/binary'});\n",
              "      const a = document.createElement('a');\n",
              "      a.href = window.URL.createObjectURL(blob);\n",
              "      a.download = filename;\n",
              "      div.appendChild(a);\n",
              "      a.click();\n",
              "      div.remove();\n",
              "    }\n",
              "  "
            ]
          },
          "metadata": {}
        },
        {
          "output_type": "display_data",
          "data": {
            "text/plain": [
              "<IPython.core.display.Javascript object>"
            ],
            "application/javascript": [
              "download(\"download_d8f06a08-af3a-4488-86e7-1879fe19ac10\", \"vcare.tflite\", 16880)"
            ]
          },
          "metadata": {}
        },
        {
          "output_type": "stream",
          "name": "stdout",
          "text": [
            "`vcare.tflite` has been downloaded\n"
          ]
        }
      ]
    }
  ]
}